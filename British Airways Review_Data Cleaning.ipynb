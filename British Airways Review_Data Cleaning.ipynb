{
 "cells": [
  {
   "cell_type": "markdown",
   "id": "01b00a44",
   "metadata": {},
   "source": [
    "# Data Cleaning"
   ]
  },
  {
   "cell_type": "markdown",
   "id": "04ed434b",
   "metadata": {},
   "source": [
    "We will now check the scrapped data and clean it if necessary."
   ]
  },
  {
   "cell_type": "code",
   "execution_count": 1,
   "id": "30e9f9e9",
   "metadata": {},
   "outputs": [],
   "source": [
    "# importing libraries\n",
    "\n",
    "import pandas as pd\n",
    "import numpy as np"
   ]
  },
  {
   "cell_type": "code",
   "execution_count": 2,
   "id": "28ab76af",
   "metadata": {},
   "outputs": [],
   "source": [
    "# reading the csv file into a dataframe\n",
    "\n",
    "df = pd.read_csv(\"data/BA_reviews_raw.csv\", index_col = 0)"
   ]
  },
  {
   "cell_type": "code",
   "execution_count": 3,
   "id": "27419216",
   "metadata": {},
   "outputs": [
    {
     "data": {
      "text/html": [
       "<div>\n",
       "<style scoped>\n",
       "    .dataframe tbody tr th:only-of-type {\n",
       "        vertical-align: middle;\n",
       "    }\n",
       "\n",
       "    .dataframe tbody tr th {\n",
       "        vertical-align: top;\n",
       "    }\n",
       "\n",
       "    .dataframe thead th {\n",
       "        text-align: right;\n",
       "    }\n",
       "</style>\n",
       "<table border=\"1\" class=\"dataframe\">\n",
       "  <thead>\n",
       "    <tr style=\"text-align: right;\">\n",
       "      <th></th>\n",
       "      <th>reviews</th>\n",
       "      <th>rating</th>\n",
       "      <th>review date</th>\n",
       "      <th>country</th>\n",
       "    </tr>\n",
       "  </thead>\n",
       "  <tbody>\n",
       "    <tr>\n",
       "      <th>0</th>\n",
       "      <td>Not Verified |  If I could give a minus rating...</td>\n",
       "      <td>1</td>\n",
       "      <td>15th March 2023</td>\n",
       "      <td>United Kingdom</td>\n",
       "    </tr>\n",
       "    <tr>\n",
       "      <th>1</th>\n",
       "      <td>✅ Trip Verified | Plane was over an hour late ...</td>\n",
       "      <td>2</td>\n",
       "      <td>15th March 2023</td>\n",
       "      <td>United Kingdom</td>\n",
       "    </tr>\n",
       "    <tr>\n",
       "      <th>2</th>\n",
       "      <td>Not Verified |  We were flying World Traveller...</td>\n",
       "      <td>2</td>\n",
       "      <td>14th March 2023</td>\n",
       "      <td>United Kingdom</td>\n",
       "    </tr>\n",
       "    <tr>\n",
       "      <th>3</th>\n",
       "      <td>Not Verified |  This was literally one of the ...</td>\n",
       "      <td>1</td>\n",
       "      <td>13th March 2023</td>\n",
       "      <td>Ireland</td>\n",
       "    </tr>\n",
       "    <tr>\n",
       "      <th>4</th>\n",
       "      <td>✅ Trip Verified |  The usual shambolic unfoldi...</td>\n",
       "      <td>1</td>\n",
       "      <td>12th March 2023</td>\n",
       "      <td>United Kingdom</td>\n",
       "    </tr>\n",
       "  </tbody>\n",
       "</table>\n",
       "</div>"
      ],
      "text/plain": [
       "                                             reviews rating      review date  \\\n",
       "0  Not Verified |  If I could give a minus rating...      1  15th March 2023   \n",
       "1  ✅ Trip Verified | Plane was over an hour late ...      2  15th March 2023   \n",
       "2  Not Verified |  We were flying World Traveller...      2  14th March 2023   \n",
       "3  Not Verified |  This was literally one of the ...      1  13th March 2023   \n",
       "4  ✅ Trip Verified |  The usual shambolic unfoldi...      1  12th March 2023   \n",
       "\n",
       "          country  \n",
       "0  United Kingdom  \n",
       "1  United Kingdom  \n",
       "2  United Kingdom  \n",
       "3         Ireland  \n",
       "4  United Kingdom  "
      ]
     },
     "execution_count": 3,
     "metadata": {},
     "output_type": "execute_result"
    }
   ],
   "source": [
    "# sanity check\n",
    "\n",
    "df.head()"
   ]
  },
  {
   "cell_type": "code",
   "execution_count": 4,
   "id": "4ff5ce72",
   "metadata": {},
   "outputs": [
    {
     "data": {
      "text/plain": [
       "(3497, 4)"
      ]
     },
     "execution_count": 4,
     "metadata": {},
     "output_type": "execute_result"
    }
   ],
   "source": [
    "# shape of the data\n",
    "\n",
    "df.shape"
   ]
  },
  {
   "cell_type": "markdown",
   "id": "07a01eff",
   "metadata": {},
   "source": [
    "### Cleaning the *reviews* column"
   ]
  },
  {
   "cell_type": "markdown",
   "id": "d99a7181",
   "metadata": {},
   "source": [
    "Adding a column to specify whether the user is a verified user or not."
   ]
  },
  {
   "cell_type": "code",
   "execution_count": 5,
   "id": "e76ac680",
   "metadata": {},
   "outputs": [],
   "source": [
    "df['verified user'] = df['reviews'].str.contains('Trip Verified')"
   ]
  },
  {
   "cell_type": "code",
   "execution_count": 6,
   "id": "637cc9b3",
   "metadata": {
    "scrolled": true
   },
   "outputs": [
    {
     "data": {
      "text/html": [
       "<div>\n",
       "<style scoped>\n",
       "    .dataframe tbody tr th:only-of-type {\n",
       "        vertical-align: middle;\n",
       "    }\n",
       "\n",
       "    .dataframe tbody tr th {\n",
       "        vertical-align: top;\n",
       "    }\n",
       "\n",
       "    .dataframe thead th {\n",
       "        text-align: right;\n",
       "    }\n",
       "</style>\n",
       "<table border=\"1\" class=\"dataframe\">\n",
       "  <thead>\n",
       "    <tr style=\"text-align: right;\">\n",
       "      <th></th>\n",
       "      <th>reviews</th>\n",
       "      <th>rating</th>\n",
       "      <th>review date</th>\n",
       "      <th>country</th>\n",
       "      <th>verified user</th>\n",
       "    </tr>\n",
       "  </thead>\n",
       "  <tbody>\n",
       "    <tr>\n",
       "      <th>0</th>\n",
       "      <td>Not Verified |  If I could give a minus rating...</td>\n",
       "      <td>1</td>\n",
       "      <td>15th March 2023</td>\n",
       "      <td>United Kingdom</td>\n",
       "      <td>False</td>\n",
       "    </tr>\n",
       "    <tr>\n",
       "      <th>1</th>\n",
       "      <td>✅ Trip Verified | Plane was over an hour late ...</td>\n",
       "      <td>2</td>\n",
       "      <td>15th March 2023</td>\n",
       "      <td>United Kingdom</td>\n",
       "      <td>True</td>\n",
       "    </tr>\n",
       "    <tr>\n",
       "      <th>2</th>\n",
       "      <td>Not Verified |  We were flying World Traveller...</td>\n",
       "      <td>2</td>\n",
       "      <td>14th March 2023</td>\n",
       "      <td>United Kingdom</td>\n",
       "      <td>False</td>\n",
       "    </tr>\n",
       "    <tr>\n",
       "      <th>3</th>\n",
       "      <td>Not Verified |  This was literally one of the ...</td>\n",
       "      <td>1</td>\n",
       "      <td>13th March 2023</td>\n",
       "      <td>Ireland</td>\n",
       "      <td>False</td>\n",
       "    </tr>\n",
       "    <tr>\n",
       "      <th>4</th>\n",
       "      <td>✅ Trip Verified |  The usual shambolic unfoldi...</td>\n",
       "      <td>1</td>\n",
       "      <td>12th March 2023</td>\n",
       "      <td>United Kingdom</td>\n",
       "      <td>True</td>\n",
       "    </tr>\n",
       "  </tbody>\n",
       "</table>\n",
       "</div>"
      ],
      "text/plain": [
       "                                             reviews rating      review date  \\\n",
       "0  Not Verified |  If I could give a minus rating...      1  15th March 2023   \n",
       "1  ✅ Trip Verified | Plane was over an hour late ...      2  15th March 2023   \n",
       "2  Not Verified |  We were flying World Traveller...      2  14th March 2023   \n",
       "3  Not Verified |  This was literally one of the ...      1  13th March 2023   \n",
       "4  ✅ Trip Verified |  The usual shambolic unfoldi...      1  12th March 2023   \n",
       "\n",
       "          country  verified user  \n",
       "0  United Kingdom          False  \n",
       "1  United Kingdom           True  \n",
       "2  United Kingdom          False  \n",
       "3         Ireland          False  \n",
       "4  United Kingdom           True  "
      ]
     },
     "execution_count": 6,
     "metadata": {},
     "output_type": "execute_result"
    }
   ],
   "source": [
    "# sanity check\n",
    "\n",
    "df.head()"
   ]
  },
  {
   "cell_type": "markdown",
   "id": "aa27cc7f",
   "metadata": {},
   "source": [
    "Lets now clean the review text to remove the *✅ Trip Verified* and *Not Verified* as this data in now contained in a separate column."
   ]
  },
  {
   "cell_type": "code",
   "execution_count": 7,
   "id": "12748229",
   "metadata": {},
   "outputs": [],
   "source": [
    "for i in range(0, len(df)):\n",
    "    try:\n",
    "        df.loc[i,'reviews'] = df.loc[i,'reviews'].split(\"|\")[1].strip()\n",
    "    except IndexError:\n",
    "        continue"
   ]
  },
  {
   "cell_type": "code",
   "execution_count": 8,
   "id": "d96682bf",
   "metadata": {},
   "outputs": [
    {
     "data": {
      "text/html": [
       "<div>\n",
       "<style scoped>\n",
       "    .dataframe tbody tr th:only-of-type {\n",
       "        vertical-align: middle;\n",
       "    }\n",
       "\n",
       "    .dataframe tbody tr th {\n",
       "        vertical-align: top;\n",
       "    }\n",
       "\n",
       "    .dataframe thead th {\n",
       "        text-align: right;\n",
       "    }\n",
       "</style>\n",
       "<table border=\"1\" class=\"dataframe\">\n",
       "  <thead>\n",
       "    <tr style=\"text-align: right;\">\n",
       "      <th></th>\n",
       "      <th>reviews</th>\n",
       "      <th>rating</th>\n",
       "      <th>review date</th>\n",
       "      <th>country</th>\n",
       "      <th>verified user</th>\n",
       "    </tr>\n",
       "  </thead>\n",
       "  <tbody>\n",
       "    <tr>\n",
       "      <th>0</th>\n",
       "      <td>If I could give a minus rating, I would. Suppo...</td>\n",
       "      <td>1</td>\n",
       "      <td>15th March 2023</td>\n",
       "      <td>United Kingdom</td>\n",
       "      <td>False</td>\n",
       "    </tr>\n",
       "    <tr>\n",
       "      <th>1</th>\n",
       "      <td>Plane was over an hour late leaving, no proble...</td>\n",
       "      <td>2</td>\n",
       "      <td>15th March 2023</td>\n",
       "      <td>United Kingdom</td>\n",
       "      <td>True</td>\n",
       "    </tr>\n",
       "    <tr>\n",
       "      <th>2</th>\n",
       "      <td>We were flying World Traveller Plus their Prem...</td>\n",
       "      <td>2</td>\n",
       "      <td>14th March 2023</td>\n",
       "      <td>United Kingdom</td>\n",
       "      <td>False</td>\n",
       "    </tr>\n",
       "    <tr>\n",
       "      <th>3</th>\n",
       "      <td>This was literally one of the worst experience...</td>\n",
       "      <td>1</td>\n",
       "      <td>13th March 2023</td>\n",
       "      <td>Ireland</td>\n",
       "      <td>False</td>\n",
       "    </tr>\n",
       "    <tr>\n",
       "      <th>4</th>\n",
       "      <td>The usual shambolic unfolding that BA has now ...</td>\n",
       "      <td>1</td>\n",
       "      <td>12th March 2023</td>\n",
       "      <td>United Kingdom</td>\n",
       "      <td>True</td>\n",
       "    </tr>\n",
       "  </tbody>\n",
       "</table>\n",
       "</div>"
      ],
      "text/plain": [
       "                                             reviews rating      review date  \\\n",
       "0  If I could give a minus rating, I would. Suppo...      1  15th March 2023   \n",
       "1  Plane was over an hour late leaving, no proble...      2  15th March 2023   \n",
       "2  We were flying World Traveller Plus their Prem...      2  14th March 2023   \n",
       "3  This was literally one of the worst experience...      1  13th March 2023   \n",
       "4  The usual shambolic unfolding that BA has now ...      1  12th March 2023   \n",
       "\n",
       "          country  verified user  \n",
       "0  United Kingdom          False  \n",
       "1  United Kingdom           True  \n",
       "2  United Kingdom          False  \n",
       "3         Ireland          False  \n",
       "4  United Kingdom           True  "
      ]
     },
     "execution_count": 8,
     "metadata": {},
     "output_type": "execute_result"
    }
   ],
   "source": [
    "# sanity check\n",
    "\n",
    "df.head()"
   ]
  },
  {
   "cell_type": "markdown",
   "id": "34c0f96f",
   "metadata": {},
   "source": [
    "### Checking for null values and datatypes"
   ]
  },
  {
   "cell_type": "code",
   "execution_count": 9,
   "id": "ac9aba24",
   "metadata": {},
   "outputs": [
    {
     "name": "stdout",
     "output_type": "stream",
     "text": [
      "<class 'pandas.core.frame.DataFrame'>\n",
      "Int64Index: 3497 entries, 0 to 3496\n",
      "Data columns (total 5 columns):\n",
      " #   Column         Non-Null Count  Dtype \n",
      "---  ------         --------------  ----- \n",
      " 0   reviews        3497 non-null   object\n",
      " 1   rating         3497 non-null   object\n",
      " 2   review date    3497 non-null   object\n",
      " 3   country        3495 non-null   object\n",
      " 4   verified user  3497 non-null   bool  \n",
      "dtypes: bool(1), object(4)\n",
      "memory usage: 269.1+ KB\n"
     ]
    }
   ],
   "source": [
    "# checking the null values, datatypes of the data\n",
    "\n",
    "df.info()"
   ]
  },
  {
   "cell_type": "markdown",
   "id": "032b6d53",
   "metadata": {},
   "source": [
    "<ul>\n",
    "    <li>We can see that the <i>country</i> column has 2 missing values, which can be dropped without much data loss.</li>\n",
    "    <li>The <i>review date</i> column is of object type which can be converted into datetime.</li>\n",
    "    <li>The <i>rating</i> column can be converted to int.</li>\n",
    "</ul>"
   ]
  },
  {
   "cell_type": "code",
   "execution_count": 10,
   "id": "2d071d60",
   "metadata": {},
   "outputs": [],
   "source": [
    "# dropping the rows where the country information is missing\n",
    "\n",
    "df.drop(df[df['country'].isnull() == True].index, axis = 0, inplace = True)"
   ]
  },
  {
   "cell_type": "code",
   "execution_count": 11,
   "id": "b61f6b3c",
   "metadata": {},
   "outputs": [],
   "source": [
    "# convert the date column to a datetime format\n",
    "\n",
    "df['review date'] = pd.to_datetime(df['review date'])"
   ]
  },
  {
   "cell_type": "code",
   "execution_count": 12,
   "id": "05f61ded",
   "metadata": {},
   "outputs": [
    {
     "name": "stdout",
     "output_type": "stream",
     "text": [
      "<class 'pandas.core.frame.DataFrame'>\n",
      "Int64Index: 3495 entries, 0 to 3496\n",
      "Data columns (total 5 columns):\n",
      " #   Column         Non-Null Count  Dtype         \n",
      "---  ------         --------------  -----         \n",
      " 0   reviews        3495 non-null   object        \n",
      " 1   rating         3495 non-null   object        \n",
      " 2   review date    3495 non-null   datetime64[ns]\n",
      " 3   country        3495 non-null   object        \n",
      " 4   verified user  3495 non-null   bool          \n",
      "dtypes: bool(1), datetime64[ns](1), object(3)\n",
      "memory usage: 139.9+ KB\n"
     ]
    }
   ],
   "source": [
    "# sanity check\n",
    "\n",
    "df.info()"
   ]
  },
  {
   "cell_type": "markdown",
   "id": "0ba26c72",
   "metadata": {},
   "source": [
    "We see that the row count is reduced by 2."
   ]
  },
  {
   "cell_type": "markdown",
   "id": "8c8672b5",
   "metadata": {},
   "source": [
    "Also, we do recollect that while scrapping the data we had errors while retriving the *rating* column. At that time we had overwritten the rating as **None**. Let us check how many reviews have such error."
   ]
  },
  {
   "cell_type": "code",
   "execution_count": 13,
   "id": "acdaa097",
   "metadata": {},
   "outputs": [
    {
     "data": {
      "text/plain": [
       "array(['1', '2', '8', '10', '4', '6', '7', '5', '9', '3', 'None'],\n",
       "      dtype=object)"
      ]
     },
     "execution_count": 13,
     "metadata": {},
     "output_type": "execute_result"
    }
   ],
   "source": [
    "# checking for unique rating values\n",
    "\n",
    "df['rating'].unique()"
   ]
  },
  {
   "cell_type": "code",
   "execution_count": 14,
   "id": "b01634e0",
   "metadata": {},
   "outputs": [
    {
     "data": {
      "text/plain": [
       "1       765\n",
       "2       394\n",
       "3       386\n",
       "8       360\n",
       "10      318\n",
       "7       308\n",
       "9       303\n",
       "4       242\n",
       "5       229\n",
       "6       185\n",
       "None      5\n",
       "Name: rating, dtype: int64"
      ]
     },
     "execution_count": 14,
     "metadata": {},
     "output_type": "execute_result"
    }
   ],
   "source": [
    "df['rating'].value_counts()"
   ]
  },
  {
   "cell_type": "markdown",
   "id": "9d007c2f",
   "metadata": {},
   "source": [
    "So there are only 5 reviews where this error occured. We can drop these reviews without causing much data loss."
   ]
  },
  {
   "cell_type": "code",
   "execution_count": 15,
   "id": "3d3ad095",
   "metadata": {},
   "outputs": [],
   "source": [
    "# dropping the indexes where 'rating' is None\n",
    "\n",
    "df.drop(df[df['rating'] == \"None\"].index, axis = 0, inplace = True)"
   ]
  },
  {
   "cell_type": "code",
   "execution_count": 16,
   "id": "7a821fb3",
   "metadata": {},
   "outputs": [],
   "source": [
    "# convert the rating column to a integers\n",
    "\n",
    "df['rating'] = df['rating'].astype(int)"
   ]
  },
  {
   "cell_type": "code",
   "execution_count": 17,
   "id": "51b41d35",
   "metadata": {},
   "outputs": [
    {
     "name": "stdout",
     "output_type": "stream",
     "text": [
      "<class 'pandas.core.frame.DataFrame'>\n",
      "Int64Index: 3490 entries, 0 to 3496\n",
      "Data columns (total 5 columns):\n",
      " #   Column         Non-Null Count  Dtype         \n",
      "---  ------         --------------  -----         \n",
      " 0   reviews        3490 non-null   object        \n",
      " 1   rating         3490 non-null   int32         \n",
      " 2   review date    3490 non-null   datetime64[ns]\n",
      " 3   country        3490 non-null   object        \n",
      " 4   verified user  3490 non-null   bool          \n",
      "dtypes: bool(1), datetime64[ns](1), int32(1), object(2)\n",
      "memory usage: 126.1+ KB\n"
     ]
    }
   ],
   "source": [
    "# sanity check\n",
    "\n",
    "df.info()"
   ]
  },
  {
   "cell_type": "code",
   "execution_count": 18,
   "id": "9a8fce8b",
   "metadata": {},
   "outputs": [
    {
     "data": {
      "text/plain": [
       "(3490, 5)"
      ]
     },
     "execution_count": 18,
     "metadata": {},
     "output_type": "execute_result"
    }
   ],
   "source": [
    "# checking the shape\n",
    "\n",
    "df.shape"
   ]
  },
  {
   "cell_type": "markdown",
   "id": "7d253e21",
   "metadata": {},
   "source": [
    "We should now reset the index and export the cleaned data into a new csv file."
   ]
  },
  {
   "cell_type": "code",
   "execution_count": 19,
   "id": "578bdd56",
   "metadata": {},
   "outputs": [],
   "source": [
    "# resetting the index\n",
    "\n",
    "df = df.reset_index(drop = True)"
   ]
  },
  {
   "cell_type": "code",
   "execution_count": 20,
   "id": "c2ceaffd",
   "metadata": {},
   "outputs": [],
   "source": [
    "# exporting the cleaned data\n",
    "\n",
    "df.to_csv(\"data/BA_review_cleaned.csv\")"
   ]
  }
 ],
 "metadata": {
  "kernelspec": {
   "display_name": "Python 3 (ipykernel)",
   "language": "python",
   "name": "python3"
  },
  "language_info": {
   "codemirror_mode": {
    "name": "ipython",
    "version": 3
   },
   "file_extension": ".py",
   "mimetype": "text/x-python",
   "name": "python",
   "nbconvert_exporter": "python",
   "pygments_lexer": "ipython3",
   "version": "3.9.12"
  }
 },
 "nbformat": 4,
 "nbformat_minor": 5
}
